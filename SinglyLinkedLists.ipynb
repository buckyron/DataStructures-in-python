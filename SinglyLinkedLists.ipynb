{
  "nbformat": 4,
  "nbformat_minor": 0,
  "metadata": {
    "colab": {
      "name": "SinglyLinkedLists.ipynb",
      "provenance": [],
      "collapsed_sections": [],
      "authorship_tag": "ABX9TyO9656IFujrEKWE/+wE8umK",
      "include_colab_link": true
    },
    "kernelspec": {
      "name": "python3",
      "display_name": "Python 3"
    }
  },
  "cells": [
    {
      "cell_type": "markdown",
      "metadata": {
        "id": "view-in-github",
        "colab_type": "text"
      },
      "source": [
        "<a href=\"https://colab.research.google.com/github/buckyron/DataStructures-in-python/blob/main/SinglyLinkedLists.ipynb\" target=\"_parent\"><img src=\"https://colab.research.google.com/assets/colab-badge.svg\" alt=\"Open In Colab\"/></a>"
      ]
    },
    {
      "cell_type": "code",
      "metadata": {
        "id": "vcQWi3JwLd0_"
      },
      "source": [
        "class Node:\n",
        "  def __init__(self, data):\n",
        "    self.data = data\n",
        "    self.next = None\n",
        "\n",
        "\n",
        "class LinkedList:\n",
        "  def __init__(self):\n",
        "    self.head = None\n",
        "\n",
        "  def insert(self, newNode):\n",
        "    if self.head is None:\n",
        "      self.head = newNode\n",
        "\n",
        "    else:\n",
        "      lastNode = self.head\n",
        "\n",
        "      while lastNode.next is not None:\n",
        "        lastNode = lastNode.next\n",
        "\n",
        "      lastNode.next = newNode   \n",
        "\n",
        "\n",
        "  def insertHead(self, newNode):\n",
        "    temp = self.head\n",
        "    self.head = newNode\n",
        "    self.head.next = temp\n",
        "\n",
        "  def length(self):\n",
        "    currentNode = self.head\n",
        "    length = 1\n",
        "    while True:\n",
        "      if currentNode.next is None:\n",
        "        break\n",
        "      currentNode = currentNode.next\n",
        "      length = length + 1\n",
        "    return length\n",
        "\n",
        "\n",
        "  def insertAt(self, newNode, pos):\n",
        "    length = self.length()\n",
        "    if pos == 0:\n",
        "        self.insertHead(newNode)\n",
        "    \n",
        "    elif pos < 0:\n",
        "      print('enter a valid index')\n",
        "    \n",
        "    elif length-1 < pos:\n",
        "      lastNode = self.head\n",
        "\n",
        "      while lastNode.next is not None:\n",
        "        lastNode = lastNode.next\n",
        "\n",
        "      lastNode.next = newNode   \n",
        "      print('inserted at end')\n",
        "\n",
        "\n",
        "    else:\n",
        "      currentNode = self.head\n",
        "      index = 0\n",
        "      while True:\n",
        "        if currentNode.next is None:\n",
        "          break\n",
        "        if index == pos:\n",
        "          previousNode.next = newNode\n",
        "          newNode.next = currentNode\n",
        "          break\n",
        "        \n",
        "        index = index + 1\n",
        "        previousNode = currentNode\n",
        "        currentNode = currentNode.next\n",
        "\n",
        "  def deleteLastNode(self):\n",
        "    lastNode = self.head\n",
        "    while lastNode.next is not None:\n",
        "      previousNode = lastNode\n",
        "      lastNode = lastNode.next\n",
        "    previousNode.next = None\n",
        "    del lastNode\n",
        "    \n",
        "\n",
        "  def deleteAt(self, pos):\n",
        "    length = self.length()\n",
        "    if(pos == 0):\n",
        "      temp = self.head\n",
        "      del self.head\n",
        "      self.head = temp.next\n",
        "    elif(pos < 0 or pos > length - 1):\n",
        "      print('Enter a valid index')\n",
        "    else:\n",
        "      currentNode = self.head\n",
        "      index = 0\n",
        "      while True:\n",
        "        if currentNode.next is None:\n",
        "          break\n",
        "        if index == pos:\n",
        "          previousNode.next = currentNode.next\n",
        "          del currentNode\n",
        "          break\n",
        "        previousNode = currentNode\n",
        "        currentNode = currentNode.next\n",
        "        index = index + 1\n",
        "\n",
        "\n",
        "  def printList(self):\n",
        "    if self.head is None:\n",
        "      print('List is empty')\n",
        "\n",
        "    else:\n",
        "      currentNode = self.head\n",
        "      while True:\n",
        "        if currentNode.next is None:\n",
        "          print(currentNode.data)\n",
        "          break\n",
        "        print(currentNode.data)\n",
        "        currentNode = currentNode.next\n",
        "\n",
        "    \n",
        "\n",
        "\n"
      ],
      "execution_count": 157,
      "outputs": []
    },
    {
      "cell_type": "code",
      "metadata": {
        "colab": {
          "base_uri": "https://localhost:8080/"
        },
        "id": "twh6w9zbSD9L",
        "outputId": "a91560a7-7fa9-42be-9cd2-151e983d7c68"
      },
      "source": [
        "\n",
        "firstNode = Node('Hari')\n",
        "secondNode = Node('Vicky')\n",
        "thirdNode = Node('Vicky')\n",
        "\n",
        "\n",
        "ll1 = LinkedList()\n",
        "ll1.insert(firstNode)\n",
        "ll1.insert(secondNode)\n",
        "ll1.insert(thirdNode)\n",
        "\n",
        "ll1.printList()"
      ],
      "execution_count": 158,
      "outputs": [
        {
          "output_type": "stream",
          "text": [
            "Hari\n",
            "Vicky\n",
            "Vicky\n"
          ],
          "name": "stdout"
        }
      ]
    },
    {
      "cell_type": "code",
      "metadata": {
        "id": "s3LN9L4GSiEa"
      },
      "source": [
        "ll1.insertHead(Node('Perumal'))"
      ],
      "execution_count": 159,
      "outputs": []
    },
    {
      "cell_type": "code",
      "metadata": {
        "colab": {
          "base_uri": "https://localhost:8080/"
        },
        "id": "R-YPXJObaaRg",
        "outputId": "4b7e8bb9-a810-4bf6-c739-acdf429a03b2"
      },
      "source": [
        "ll1.printList()"
      ],
      "execution_count": 160,
      "outputs": [
        {
          "output_type": "stream",
          "text": [
            "Perumal\n",
            "Hari\n",
            "Vicky\n",
            "Vicky\n"
          ],
          "name": "stdout"
        }
      ]
    },
    {
      "cell_type": "code",
      "metadata": {
        "id": "U1lXPWpsai4_"
      },
      "source": [
        "ll1.insertAt(Node('Howard'),0 )"
      ],
      "execution_count": 161,
      "outputs": []
    },
    {
      "cell_type": "code",
      "metadata": {
        "colab": {
          "base_uri": "https://localhost:8080/"
        },
        "id": "xWKFEg1IfDc5",
        "outputId": "34ade812-fe7d-424f-f7a8-45731177265a"
      },
      "source": [
        "ll1.printList()\n",
        "print(ll1.length())"
      ],
      "execution_count": 162,
      "outputs": [
        {
          "output_type": "stream",
          "text": [
            "Howard\n",
            "Perumal\n",
            "Hari\n",
            "Vicky\n",
            "Vicky\n",
            "5\n"
          ],
          "name": "stdout"
        }
      ]
    },
    {
      "cell_type": "code",
      "metadata": {
        "colab": {
          "base_uri": "https://localhost:8080/"
        },
        "id": "D4m0oOrDf7bz",
        "outputId": "41c61021-8aa7-43ef-f523-5bd140bb199c"
      },
      "source": [
        "ll1.insertAt(Node('Majin Buu'), 6 )"
      ],
      "execution_count": 163,
      "outputs": [
        {
          "output_type": "stream",
          "text": [
            "inserted at end\n"
          ],
          "name": "stdout"
        }
      ]
    },
    {
      "cell_type": "code",
      "metadata": {
        "colab": {
          "base_uri": "https://localhost:8080/"
        },
        "id": "fh9iJhj2hz2l",
        "outputId": "51e8a90d-d637-47b1-ab8c-960dd2bab920"
      },
      "source": [
        "ll1.printList()"
      ],
      "execution_count": 164,
      "outputs": [
        {
          "output_type": "stream",
          "text": [
            "Howard\n",
            "Perumal\n",
            "Hari\n",
            "Vicky\n",
            "Vicky\n",
            "Majin Buu\n"
          ],
          "name": "stdout"
        }
      ]
    },
    {
      "cell_type": "code",
      "metadata": {
        "id": "_E7hKD-ah-qY"
      },
      "source": [
        "ll1.deleteLastNode()"
      ],
      "execution_count": 165,
      "outputs": []
    },
    {
      "cell_type": "code",
      "metadata": {
        "colab": {
          "base_uri": "https://localhost:8080/"
        },
        "id": "Y3xQmntBsex7",
        "outputId": "6f52c6d2-14fe-440b-ffb8-965320a139d3"
      },
      "source": [
        "ll1.printList()"
      ],
      "execution_count": 166,
      "outputs": [
        {
          "output_type": "stream",
          "text": [
            "Howard\n",
            "Perumal\n",
            "Hari\n",
            "Vicky\n",
            "Vicky\n"
          ],
          "name": "stdout"
        }
      ]
    },
    {
      "cell_type": "code",
      "metadata": {
        "id": "Sk75jinQshKR"
      },
      "source": [
        "ll1.deleteAt(2)"
      ],
      "execution_count": 167,
      "outputs": []
    },
    {
      "cell_type": "code",
      "metadata": {
        "id": "WIfUVffrwWar",
        "outputId": "4cfb8201-80eb-48c8-93b7-710af515bcbf",
        "colab": {
          "base_uri": "https://localhost:8080/"
        }
      },
      "source": [
        "ll1.printList()"
      ],
      "execution_count": 169,
      "outputs": [
        {
          "output_type": "stream",
          "text": [
            "Howard\n",
            "Perumal\n",
            "Vicky\n",
            "Vicky\n"
          ],
          "name": "stdout"
        }
      ]
    },
    {
      "cell_type": "code",
      "metadata": {
        "id": "X2-EWYqHxEY8"
      },
      "source": [
        ""
      ],
      "execution_count": null,
      "outputs": []
    }
  ]
}